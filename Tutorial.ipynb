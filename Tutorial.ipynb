{
 "cells": [
  {
   "cell_type": "markdown",
   "metadata": {},
   "source": [
    "# Tutorial: \n",
    "\n",
    "We are building a style transer app based on the Perceptual Losses for Real-Time Style Transfer and pre-trained models. We'll use FastAPI as the backend to serve our predictions, Streamlit for the user interface, and OpenCV to do the actual prediction. Docker will also be used\n",
    "\n",
    "OpenCV's Deep Neural Networks (DNN) can load trained models from Torch, Tensorflow, and Caffe. We will take advantage of this\n",
    "\n",
    "Objectives:\n",
    "1. Develop asynchronous API with Python and FastAPI\n",
    "2. Serve up an ML model with FastAPI\n",
    "3. develop a UI with Streamlit\n",
    "4. Containerize FastAPI and Streamlit with Docker\n",
    "5. Leverage asyncio to execute code in the background outside the request/response flow"
   ]
  },
  {
   "cell_type": "markdown",
   "metadata": {},
   "source": [
    "### FastAPI: \n",
    "\n",
    "Faster than Flask because it bring asynchronous function handlers to the table. Built atop startlette.\n",
    "\n",
    "Supports data validation via pydantic and automatic API documentation as well"
   ]
  },
  {
   "cell_type": "markdown",
   "metadata": {},
   "source": [
    "### Streamlit\n",
    "\n",
    "Used to create user interfaces to interact with machine learning models\n",
    "\n",
    "Can be Used in production, but mainly used for rapid prototyping. By serving up the model with FastAPI, you can quickly move to a production ready UI with Dash or Reach after the prototype is approved. "
   ]
  },
  {
   "cell_type": "markdown",
   "metadata": {},
   "source": [
    "## Docker: \n",
    "Used to develop, Ship, and run Applications. \n",
    "\n",
    "Enables you to seperate your applications from your infrastructure so you can deliver software quicker.\n",
    "\n",
    "Out of box capabilities for shipping, testing, and deploying code quickly."
   ]
  },
  {
   "cell_type": "markdown",
   "metadata": {},
   "source": []
  }
 ],
 "metadata": {
  "kernelspec": {
   "display_name": "Python 3.11.3 ('venv': venv)",
   "language": "python",
   "name": "python3"
  },
  "language_info": {
   "name": "python",
   "version": "3.11.3"
  },
  "orig_nbformat": 4,
  "vscode": {
   "interpreter": {
    "hash": "fd12bf10db5d2483c8806b8f46a3c22b432c636572af01d78567bebae68243ce"
   }
  }
 },
 "nbformat": 4,
 "nbformat_minor": 2
}
